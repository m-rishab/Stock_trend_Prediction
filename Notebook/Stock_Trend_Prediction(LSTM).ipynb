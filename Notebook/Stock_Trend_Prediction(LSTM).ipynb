{
 "cells": [
  {
   "cell_type": "code",
   "execution_count": 2,
   "id": "29b12893",
   "metadata": {},
   "outputs": [],
   "source": [
    "import pandas as pd\n",
    "import tensorflow as tf\n",
    "import numpy as np\n",
    "import matplotlib.pyplot as plt\n",
    "import yfinance as yf\n",
    "from datetime import datetime"
   ]
  },
  {
   "cell_type": "code",
   "execution_count": 3,
   "id": "4de1b762",
   "metadata": {
    "colab": {
     "base_uri": "https://localhost:8080/",
     "height": 237
    },
    "id": "4de1b762",
    "outputId": "06284ebc-76b8-454b-a345-ce7d2979f220"
   },
   "outputs": [
    {
     "data": {
      "text/html": [
       "<div>\n",
       "<style scoped>\n",
       "    .dataframe tbody tr th:only-of-type {\n",
       "        vertical-align: middle;\n",
       "    }\n",
       "\n",
       "    .dataframe tbody tr th {\n",
       "        vertical-align: top;\n",
       "    }\n",
       "\n",
       "    .dataframe thead th {\n",
       "        text-align: right;\n",
       "    }\n",
       "</style>\n",
       "<table border=\"1\" class=\"dataframe\">\n",
       "  <thead>\n",
       "    <tr style=\"text-align: right;\">\n",
       "      <th></th>\n",
       "      <th>Open</th>\n",
       "      <th>High</th>\n",
       "      <th>Low</th>\n",
       "      <th>Close</th>\n",
       "      <th>Adj Close</th>\n",
       "      <th>Volume</th>\n",
       "    </tr>\n",
       "    <tr>\n",
       "      <th>Date</th>\n",
       "      <th></th>\n",
       "      <th></th>\n",
       "      <th></th>\n",
       "      <th></th>\n",
       "      <th></th>\n",
       "      <th></th>\n",
       "    </tr>\n",
       "  </thead>\n",
       "  <tbody>\n",
       "    <tr>\n",
       "      <th>2022-05-09</th>\n",
       "      <td>154.929993</td>\n",
       "      <td>155.830002</td>\n",
       "      <td>151.490005</td>\n",
       "      <td>152.059998</td>\n",
       "      <td>151.157410</td>\n",
       "      <td>131577900</td>\n",
       "    </tr>\n",
       "    <tr>\n",
       "      <th>2022-05-10</th>\n",
       "      <td>155.520004</td>\n",
       "      <td>156.740005</td>\n",
       "      <td>152.929993</td>\n",
       "      <td>154.509995</td>\n",
       "      <td>153.592850</td>\n",
       "      <td>115366700</td>\n",
       "    </tr>\n",
       "    <tr>\n",
       "      <th>2022-05-11</th>\n",
       "      <td>153.500000</td>\n",
       "      <td>155.449997</td>\n",
       "      <td>145.809998</td>\n",
       "      <td>146.500000</td>\n",
       "      <td>145.630417</td>\n",
       "      <td>142689800</td>\n",
       "    </tr>\n",
       "    <tr>\n",
       "      <th>2022-05-12</th>\n",
       "      <td>142.770004</td>\n",
       "      <td>146.199997</td>\n",
       "      <td>138.800003</td>\n",
       "      <td>142.559998</td>\n",
       "      <td>141.713791</td>\n",
       "      <td>182602000</td>\n",
       "    </tr>\n",
       "    <tr>\n",
       "      <th>2022-05-13</th>\n",
       "      <td>144.589996</td>\n",
       "      <td>148.100006</td>\n",
       "      <td>143.110001</td>\n",
       "      <td>147.110001</td>\n",
       "      <td>146.236786</td>\n",
       "      <td>113990900</td>\n",
       "    </tr>\n",
       "  </tbody>\n",
       "</table>\n",
       "</div>"
      ],
      "text/plain": [
       "                  Open        High         Low       Close   Adj Close  \\\n",
       "Date                                                                     \n",
       "2022-05-09  154.929993  155.830002  151.490005  152.059998  151.157410   \n",
       "2022-05-10  155.520004  156.740005  152.929993  154.509995  153.592850   \n",
       "2022-05-11  153.500000  155.449997  145.809998  146.500000  145.630417   \n",
       "2022-05-12  142.770004  146.199997  138.800003  142.559998  141.713791   \n",
       "2022-05-13  144.589996  148.100006  143.110001  147.110001  146.236786   \n",
       "\n",
       "               Volume  \n",
       "Date                   \n",
       "2022-05-09  131577900  \n",
       "2022-05-10  115366700  \n",
       "2022-05-11  142689800  \n",
       "2022-05-12  182602000  \n",
       "2022-05-13  113990900  "
      ]
     },
     "execution_count": 3,
     "metadata": {},
     "output_type": "execute_result"
    }
   ],
   "source": [
    "start_date = datetime(2022,5,8)\n",
    "end_date = datetime(2023,4,8)\n",
    "df = yf.download('AAPL', \n",
    "                      start=start_date, \n",
    "                      end=end_date, \n",
    "                      progress=False)\n",
    "df.head()"
   ]
  },
  {
   "cell_type": "code",
   "execution_count": 4,
   "id": "80bddcd0",
   "metadata": {
    "colab": {
     "base_uri": "https://localhost:8080/",
     "height": 237
    },
    "id": "80bddcd0",
    "outputId": "c692f797-366f-44e4-9d99-fe13ae4d1e6f"
   },
   "outputs": [
    {
     "data": {
      "text/html": [
       "<div>\n",
       "<style scoped>\n",
       "    .dataframe tbody tr th:only-of-type {\n",
       "        vertical-align: middle;\n",
       "    }\n",
       "\n",
       "    .dataframe tbody tr th {\n",
       "        vertical-align: top;\n",
       "    }\n",
       "\n",
       "    .dataframe thead th {\n",
       "        text-align: right;\n",
       "    }\n",
       "</style>\n",
       "<table border=\"1\" class=\"dataframe\">\n",
       "  <thead>\n",
       "    <tr style=\"text-align: right;\">\n",
       "      <th></th>\n",
       "      <th>Open</th>\n",
       "      <th>High</th>\n",
       "      <th>Low</th>\n",
       "      <th>Close</th>\n",
       "      <th>Adj Close</th>\n",
       "      <th>Volume</th>\n",
       "    </tr>\n",
       "    <tr>\n",
       "      <th>Date</th>\n",
       "      <th></th>\n",
       "      <th></th>\n",
       "      <th></th>\n",
       "      <th></th>\n",
       "      <th></th>\n",
       "      <th></th>\n",
       "    </tr>\n",
       "  </thead>\n",
       "  <tbody>\n",
       "    <tr>\n",
       "      <th>2023-03-31</th>\n",
       "      <td>162.440002</td>\n",
       "      <td>165.000000</td>\n",
       "      <td>161.910004</td>\n",
       "      <td>164.899994</td>\n",
       "      <td>164.672226</td>\n",
       "      <td>68749800</td>\n",
       "    </tr>\n",
       "    <tr>\n",
       "      <th>2023-04-03</th>\n",
       "      <td>164.270004</td>\n",
       "      <td>166.289993</td>\n",
       "      <td>164.220001</td>\n",
       "      <td>166.169998</td>\n",
       "      <td>165.940475</td>\n",
       "      <td>56976200</td>\n",
       "    </tr>\n",
       "    <tr>\n",
       "      <th>2023-04-04</th>\n",
       "      <td>166.600006</td>\n",
       "      <td>166.839996</td>\n",
       "      <td>165.110001</td>\n",
       "      <td>165.630005</td>\n",
       "      <td>165.401230</td>\n",
       "      <td>46278300</td>\n",
       "    </tr>\n",
       "    <tr>\n",
       "      <th>2023-04-05</th>\n",
       "      <td>164.740005</td>\n",
       "      <td>165.050003</td>\n",
       "      <td>161.800003</td>\n",
       "      <td>163.759995</td>\n",
       "      <td>163.533798</td>\n",
       "      <td>51511700</td>\n",
       "    </tr>\n",
       "    <tr>\n",
       "      <th>2023-04-06</th>\n",
       "      <td>162.429993</td>\n",
       "      <td>164.960007</td>\n",
       "      <td>162.000000</td>\n",
       "      <td>164.660004</td>\n",
       "      <td>164.432556</td>\n",
       "      <td>45390100</td>\n",
       "    </tr>\n",
       "  </tbody>\n",
       "</table>\n",
       "</div>"
      ],
      "text/plain": [
       "                  Open        High         Low       Close   Adj Close  \\\n",
       "Date                                                                     \n",
       "2023-03-31  162.440002  165.000000  161.910004  164.899994  164.672226   \n",
       "2023-04-03  164.270004  166.289993  164.220001  166.169998  165.940475   \n",
       "2023-04-04  166.600006  166.839996  165.110001  165.630005  165.401230   \n",
       "2023-04-05  164.740005  165.050003  161.800003  163.759995  163.533798   \n",
       "2023-04-06  162.429993  164.960007  162.000000  164.660004  164.432556   \n",
       "\n",
       "              Volume  \n",
       "Date                  \n",
       "2023-03-31  68749800  \n",
       "2023-04-03  56976200  \n",
       "2023-04-04  46278300  \n",
       "2023-04-05  51511700  \n",
       "2023-04-06  45390100  "
      ]
     },
     "execution_count": 4,
     "metadata": {},
     "output_type": "execute_result"
    }
   ],
   "source": [
    "df.tail()"
   ]
  },
  {
   "cell_type": "code",
   "execution_count": 5,
   "id": "d93e9bc0",
   "metadata": {
    "colab": {
     "base_uri": "https://localhost:8080/",
     "height": 237
    },
    "id": "d93e9bc0",
    "outputId": "7fdd73ed-d708-47b3-ee35-01c913c69118"
   },
   "outputs": [
    {
     "data": {
      "text/html": [
       "<div>\n",
       "<style scoped>\n",
       "    .dataframe tbody tr th:only-of-type {\n",
       "        vertical-align: middle;\n",
       "    }\n",
       "\n",
       "    .dataframe tbody tr th {\n",
       "        vertical-align: top;\n",
       "    }\n",
       "\n",
       "    .dataframe thead th {\n",
       "        text-align: right;\n",
       "    }\n",
       "</style>\n",
       "<table border=\"1\" class=\"dataframe\">\n",
       "  <thead>\n",
       "    <tr style=\"text-align: right;\">\n",
       "      <th></th>\n",
       "      <th>Open</th>\n",
       "      <th>High</th>\n",
       "      <th>Low</th>\n",
       "      <th>Close</th>\n",
       "      <th>Volume</th>\n",
       "    </tr>\n",
       "    <tr>\n",
       "      <th>Date</th>\n",
       "      <th></th>\n",
       "      <th></th>\n",
       "      <th></th>\n",
       "      <th></th>\n",
       "      <th></th>\n",
       "    </tr>\n",
       "  </thead>\n",
       "  <tbody>\n",
       "    <tr>\n",
       "      <th>2022-05-09</th>\n",
       "      <td>154.929993</td>\n",
       "      <td>155.830002</td>\n",
       "      <td>151.490005</td>\n",
       "      <td>152.059998</td>\n",
       "      <td>131577900</td>\n",
       "    </tr>\n",
       "    <tr>\n",
       "      <th>2022-05-10</th>\n",
       "      <td>155.520004</td>\n",
       "      <td>156.740005</td>\n",
       "      <td>152.929993</td>\n",
       "      <td>154.509995</td>\n",
       "      <td>115366700</td>\n",
       "    </tr>\n",
       "    <tr>\n",
       "      <th>2022-05-11</th>\n",
       "      <td>153.500000</td>\n",
       "      <td>155.449997</td>\n",
       "      <td>145.809998</td>\n",
       "      <td>146.500000</td>\n",
       "      <td>142689800</td>\n",
       "    </tr>\n",
       "    <tr>\n",
       "      <th>2022-05-12</th>\n",
       "      <td>142.770004</td>\n",
       "      <td>146.199997</td>\n",
       "      <td>138.800003</td>\n",
       "      <td>142.559998</td>\n",
       "      <td>182602000</td>\n",
       "    </tr>\n",
       "    <tr>\n",
       "      <th>2022-05-13</th>\n",
       "      <td>144.589996</td>\n",
       "      <td>148.100006</td>\n",
       "      <td>143.110001</td>\n",
       "      <td>147.110001</td>\n",
       "      <td>113990900</td>\n",
       "    </tr>\n",
       "  </tbody>\n",
       "</table>\n",
       "</div>"
      ],
      "text/plain": [
       "                  Open        High         Low       Close     Volume\n",
       "Date                                                                 \n",
       "2022-05-09  154.929993  155.830002  151.490005  152.059998  131577900\n",
       "2022-05-10  155.520004  156.740005  152.929993  154.509995  115366700\n",
       "2022-05-11  153.500000  155.449997  145.809998  146.500000  142689800\n",
       "2022-05-12  142.770004  146.199997  138.800003  142.559998  182602000\n",
       "2022-05-13  144.589996  148.100006  143.110001  147.110001  113990900"
      ]
     },
     "execution_count": 5,
     "metadata": {},
     "output_type": "execute_result"
    }
   ],
   "source": [
    "df = df.drop(['Adj Close'], axis = 1)\n",
    "df.head()"
   ]
  },
  {
   "cell_type": "code",
   "execution_count": 6,
   "id": "1d80e713",
   "metadata": {
    "colab": {
     "base_uri": "https://localhost:8080/",
     "height": 423
    },
    "id": "1d80e713",
    "outputId": "a7850dc0-2b37-4cde-f98d-4c169bb7bea4"
   },
   "outputs": [
    {
     "data": {
      "text/html": [
       "<div>\n",
       "<style scoped>\n",
       "    .dataframe tbody tr th:only-of-type {\n",
       "        vertical-align: middle;\n",
       "    }\n",
       "\n",
       "    .dataframe tbody tr th {\n",
       "        vertical-align: top;\n",
       "    }\n",
       "\n",
       "    .dataframe thead th {\n",
       "        text-align: right;\n",
       "    }\n",
       "</style>\n",
       "<table border=\"1\" class=\"dataframe\">\n",
       "  <thead>\n",
       "    <tr style=\"text-align: right;\">\n",
       "      <th></th>\n",
       "      <th>Open</th>\n",
       "      <th>High</th>\n",
       "      <th>Low</th>\n",
       "      <th>Close</th>\n",
       "      <th>Volume</th>\n",
       "    </tr>\n",
       "  </thead>\n",
       "  <tbody>\n",
       "    <tr>\n",
       "      <th>0</th>\n",
       "      <td>154.929993</td>\n",
       "      <td>155.830002</td>\n",
       "      <td>151.490005</td>\n",
       "      <td>152.059998</td>\n",
       "      <td>131577900</td>\n",
       "    </tr>\n",
       "    <tr>\n",
       "      <th>1</th>\n",
       "      <td>155.520004</td>\n",
       "      <td>156.740005</td>\n",
       "      <td>152.929993</td>\n",
       "      <td>154.509995</td>\n",
       "      <td>115366700</td>\n",
       "    </tr>\n",
       "    <tr>\n",
       "      <th>2</th>\n",
       "      <td>153.500000</td>\n",
       "      <td>155.449997</td>\n",
       "      <td>145.809998</td>\n",
       "      <td>146.500000</td>\n",
       "      <td>142689800</td>\n",
       "    </tr>\n",
       "    <tr>\n",
       "      <th>3</th>\n",
       "      <td>142.770004</td>\n",
       "      <td>146.199997</td>\n",
       "      <td>138.800003</td>\n",
       "      <td>142.559998</td>\n",
       "      <td>182602000</td>\n",
       "    </tr>\n",
       "    <tr>\n",
       "      <th>4</th>\n",
       "      <td>144.589996</td>\n",
       "      <td>148.100006</td>\n",
       "      <td>143.110001</td>\n",
       "      <td>147.110001</td>\n",
       "      <td>113990900</td>\n",
       "    </tr>\n",
       "    <tr>\n",
       "      <th>...</th>\n",
       "      <td>...</td>\n",
       "      <td>...</td>\n",
       "      <td>...</td>\n",
       "      <td>...</td>\n",
       "      <td>...</td>\n",
       "    </tr>\n",
       "    <tr>\n",
       "      <th>225</th>\n",
       "      <td>162.440002</td>\n",
       "      <td>165.000000</td>\n",
       "      <td>161.910004</td>\n",
       "      <td>164.899994</td>\n",
       "      <td>68749800</td>\n",
       "    </tr>\n",
       "    <tr>\n",
       "      <th>226</th>\n",
       "      <td>164.270004</td>\n",
       "      <td>166.289993</td>\n",
       "      <td>164.220001</td>\n",
       "      <td>166.169998</td>\n",
       "      <td>56976200</td>\n",
       "    </tr>\n",
       "    <tr>\n",
       "      <th>227</th>\n",
       "      <td>166.600006</td>\n",
       "      <td>166.839996</td>\n",
       "      <td>165.110001</td>\n",
       "      <td>165.630005</td>\n",
       "      <td>46278300</td>\n",
       "    </tr>\n",
       "    <tr>\n",
       "      <th>228</th>\n",
       "      <td>164.740005</td>\n",
       "      <td>165.050003</td>\n",
       "      <td>161.800003</td>\n",
       "      <td>163.759995</td>\n",
       "      <td>51511700</td>\n",
       "    </tr>\n",
       "    <tr>\n",
       "      <th>229</th>\n",
       "      <td>162.429993</td>\n",
       "      <td>164.960007</td>\n",
       "      <td>162.000000</td>\n",
       "      <td>164.660004</td>\n",
       "      <td>45390100</td>\n",
       "    </tr>\n",
       "  </tbody>\n",
       "</table>\n",
       "<p>230 rows × 5 columns</p>\n",
       "</div>"
      ],
      "text/plain": [
       "           Open        High         Low       Close     Volume\n",
       "0    154.929993  155.830002  151.490005  152.059998  131577900\n",
       "1    155.520004  156.740005  152.929993  154.509995  115366700\n",
       "2    153.500000  155.449997  145.809998  146.500000  142689800\n",
       "3    142.770004  146.199997  138.800003  142.559998  182602000\n",
       "4    144.589996  148.100006  143.110001  147.110001  113990900\n",
       "..          ...         ...         ...         ...        ...\n",
       "225  162.440002  165.000000  161.910004  164.899994   68749800\n",
       "226  164.270004  166.289993  164.220001  166.169998   56976200\n",
       "227  166.600006  166.839996  165.110001  165.630005   46278300\n",
       "228  164.740005  165.050003  161.800003  163.759995   51511700\n",
       "229  162.429993  164.960007  162.000000  164.660004   45390100\n",
       "\n",
       "[230 rows x 5 columns]"
      ]
     },
     "execution_count": 6,
     "metadata": {},
     "output_type": "execute_result"
    }
   ],
   "source": [
    "df.reset_index(inplace=True)\n",
    "df.drop(columns=['Date'])"
   ]
  },
  {
   "cell_type": "code",
   "execution_count": 7,
   "id": "157872c8",
   "metadata": {
    "colab": {
     "base_uri": "https://localhost:8080/",
     "height": 447
    },
    "id": "157872c8",
    "outputId": "e4739184-b28c-49a6-f792-a057aaa082e4"
   },
   "outputs": [
    {
     "data": {
      "text/plain": [
       "[<matplotlib.lines.Line2D at 0x1ce937c5590>]"
      ]
     },
     "execution_count": 7,
     "metadata": {},
     "output_type": "execute_result"
    },
    {
     "data": {
      "image/png": "[encoded data removed]",
      "text/plain": [
       "<Figure size 640x480 with 1 Axes>"
      ]
     },
     "metadata": {},
     "output_type": "display_data"
    }
   ],
   "source": [
    "plt.plot(df.Close)"
   ]
  },
  {
   "cell_type": "code",
   "execution_count": 8,
   "id": "7da6c247",
   "metadata": {
    "colab": {
     "base_uri": "https://localhost:8080/",
     "height": 423
    },
    "id": "7da6c247",
    "outputId": "7d861901-7313-4123-d0c5-47a96ea20b08"
   },
   "outputs": [
    {
     "data": {
      "text/html": [
       "<div>\n",
       "<style scoped>\n",
       "    .dataframe tbody tr th:only-of-type {\n",
       "        vertical-align: middle;\n",
       "    }\n",
       "\n",
       "    .dataframe tbody tr th {\n",
       "        vertical-align: top;\n",
       "    }\n",
       "\n",
       "    .dataframe thead th {\n",
       "        text-align: right;\n",
       "    }\n",
       "</style>\n",
       "<table border=\"1\" class=\"dataframe\">\n",
       "  <thead>\n",
       "    <tr style=\"text-align: right;\">\n",
       "      <th></th>\n",
       "      <th>Date</th>\n",
       "      <th>Open</th>\n",
       "      <th>High</th>\n",
       "      <th>Low</th>\n",
       "      <th>Close</th>\n",
       "      <th>Volume</th>\n",
       "    </tr>\n",
       "  </thead>\n",
       "  <tbody>\n",
       "    <tr>\n",
       "      <th>0</th>\n",
       "      <td>2022-05-09</td>\n",
       "      <td>154.929993</td>\n",
       "      <td>155.830002</td>\n",
       "      <td>151.490005</td>\n",
       "      <td>152.059998</td>\n",
       "      <td>131577900</td>\n",
       "    </tr>\n",
       "    <tr>\n",
       "      <th>1</th>\n",
       "      <td>2022-05-10</td>\n",
       "      <td>155.520004</td>\n",
       "      <td>156.740005</td>\n",
       "      <td>152.929993</td>\n",
       "      <td>154.509995</td>\n",
       "      <td>115366700</td>\n",
       "    </tr>\n",
       "    <tr>\n",
       "      <th>2</th>\n",
       "      <td>2022-05-11</td>\n",
       "      <td>153.500000</td>\n",
       "      <td>155.449997</td>\n",
       "      <td>145.809998</td>\n",
       "      <td>146.500000</td>\n",
       "      <td>142689800</td>\n",
       "    </tr>\n",
       "    <tr>\n",
       "      <th>3</th>\n",
       "      <td>2022-05-12</td>\n",
       "      <td>142.770004</td>\n",
       "      <td>146.199997</td>\n",
       "      <td>138.800003</td>\n",
       "      <td>142.559998</td>\n",
       "      <td>182602000</td>\n",
       "    </tr>\n",
       "    <tr>\n",
       "      <th>4</th>\n",
       "      <td>2022-05-13</td>\n",
       "      <td>144.589996</td>\n",
       "      <td>148.100006</td>\n",
       "      <td>143.110001</td>\n",
       "      <td>147.110001</td>\n",
       "      <td>113990900</td>\n",
       "    </tr>\n",
       "    <tr>\n",
       "      <th>...</th>\n",
       "      <td>...</td>\n",
       "      <td>...</td>\n",
       "      <td>...</td>\n",
       "      <td>...</td>\n",
       "      <td>...</td>\n",
       "      <td>...</td>\n",
       "    </tr>\n",
       "    <tr>\n",
       "      <th>225</th>\n",
       "      <td>2023-03-31</td>\n",
       "      <td>162.440002</td>\n",
       "      <td>165.000000</td>\n",
       "      <td>161.910004</td>\n",
       "      <td>164.899994</td>\n",
       "      <td>68749800</td>\n",
       "    </tr>\n",
       "    <tr>\n",
       "      <th>226</th>\n",
       "      <td>2023-04-03</td>\n",
       "      <td>164.270004</td>\n",
       "      <td>166.289993</td>\n",
       "      <td>164.220001</td>\n",
       "      <td>166.169998</td>\n",
       "      <td>56976200</td>\n",
       "    </tr>\n",
       "    <tr>\n",
       "      <th>227</th>\n",
       "      <td>2023-04-04</td>\n",
       "      <td>166.600006</td>\n",
       "      <td>166.839996</td>\n",
       "      <td>165.110001</td>\n",
       "      <td>165.630005</td>\n",
       "      <td>46278300</td>\n",
       "    </tr>\n",
       "    <tr>\n",
       "      <th>228</th>\n",
       "      <td>2023-04-05</td>\n",
       "      <td>164.740005</td>\n",
       "      <td>165.050003</td>\n",
       "      <td>161.800003</td>\n",
       "      <td>163.759995</td>\n",
       "      <td>51511700</td>\n",
       "    </tr>\n",
       "    <tr>\n",
       "      <th>229</th>\n",
       "      <td>2023-04-06</td>\n",
       "      <td>162.429993</td>\n",
       "      <td>164.960007</td>\n",
       "      <td>162.000000</td>\n",
       "      <td>164.660004</td>\n",
       "      <td>45390100</td>\n",
       "    </tr>\n",
       "  </tbody>\n",
       "</table>\n",
       "<p>230 rows × 6 columns</p>\n",
       "</div>"
      ],
      "text/plain": [
       "          Date        Open        High         Low       Close     Volume\n",
       "0   2022-05-09  154.929993  155.830002  151.490005  152.059998  131577900\n",
       "1   2022-05-10  155.520004  156.740005  152.929993  154.509995  115366700\n",
       "2   2022-05-11  153.500000  155.449997  145.809998  146.500000  142689800\n",
       "3   2022-05-12  142.770004  146.199997  138.800003  142.559998  182602000\n",
       "4   2022-05-13  144.589996  148.100006  143.110001  147.110001  113990900\n",
       "..         ...         ...         ...         ...         ...        ...\n",
       "225 2023-03-31  162.440002  165.000000  161.910004  164.899994   68749800\n",
       "226 2023-04-03  164.270004  166.289993  164.220001  166.169998   56976200\n",
       "227 2023-04-04  166.600006  166.839996  165.110001  165.630005   46278300\n",
       "228 2023-04-05  164.740005  165.050003  161.800003  163.759995   51511700\n",
       "229 2023-04-06  162.429993  164.960007  162.000000  164.660004   45390100\n",
       "\n",
       "[230 rows x 6 columns]"
      ]
     },
     "execution_count": 8,
     "metadata": {},
     "output_type": "execute_result"
    }
   ],
   "source": [
    "df"
   ]
  },
  {
   "cell_type": "code",
   "execution_count": 9,
   "id": "98c797bd",
   "metadata": {
    "colab": {
     "base_uri": "https://localhost:8080/"
    },
    "id": "98c797bd",
    "outputId": "7f62965d-8e25-42b3-b7c5-048bf5bcf6ce"
   },
   "outputs": [
    {
     "data": {
      "text/plain": [
       "0             NaN\n",
       "1             NaN\n",
       "2             NaN\n",
       "3             NaN\n",
       "4             NaN\n",
       "          ...    \n",
       "225    145.333499\n",
       "226    145.605999\n",
       "227    145.867299\n",
       "228    146.156199\n",
       "229    146.334099\n",
       "Name: Close, Length: 230, dtype: float64"
      ]
     },
     "execution_count": 9,
     "metadata": {},
     "output_type": "execute_result"
    }
   ],
   "source": [
    "ma100 = df.Close.rolling(100).mean()\n",
    "ma100"
   ]
  },
  {
   "cell_type": "code",
   "execution_count": 10,
   "id": "a6d019df",
   "metadata": {
    "colab": {
     "base_uri": "https://localhost:8080/",
     "height": 539
    },
    "id": "a6d019df",
    "outputId": "1c222bf8-f1fa-4ef7-f579-16e4c5b65794"
   },
   "outputs": [
    {
     "data": {
      "text/plain": [
       "[<matplotlib.lines.Line2D at 0x1ce938e7910>]"
      ]
     },
     "execution_count": 10,
     "metadata": {},
     "output_type": "execute_result"
    },
    {
     "data": {
      "image/png": "[encoded data removed]",
      "text/plain": [
       "<Figure size 1200x600 with 1 Axes>"
      ]
     },
     "metadata": {},
     "output_type": "display_data"
    }
   ],
   "source": [
    "plt.figure(figsize = (12,6))\n",
    "plt.plot(df.Close)\n",
    "plt.plot(ma100, 'r')"
   ]
  },
  {
   "cell_type": "code",
   "execution_count": 11,
   "id": "8e4c30cc",
   "metadata": {
    "colab": {
     "base_uri": "https://localhost:8080/"
    },
    "id": "8e4c30cc",
    "outputId": "08fb7346-fadf-4b77-b14a-4a9f41874ef0"
   },
   "outputs": [
    {
     "data": {
      "text/plain": [
       "0             NaN\n",
       "1             NaN\n",
       "2             NaN\n",
       "3             NaN\n",
       "4             NaN\n",
       "          ...    \n",
       "225    148.498249\n",
       "226    148.651950\n",
       "227    148.829800\n",
       "228    148.990800\n",
       "229    149.134750\n",
       "Name: Close, Length: 230, dtype: float64"
      ]
     },
     "execution_count": 11,
     "metadata": {},
     "output_type": "execute_result"
    }
   ],
   "source": [
    "ma200 = df.Close.rolling(200).mean()\n",
    "ma200"
   ]
  },
  {
   "cell_type": "code",
   "execution_count": 12,
   "id": "3bf3032b",
   "metadata": {
    "colab": {
     "base_uri": "https://localhost:8080/",
     "height": 539
    },
    "id": "3bf3032b",
    "outputId": "22a01bfb-b9d6-4ee7-8eac-a8b13468bbb0"
   },
   "outputs": [
    {
     "data": {
      "text/plain": [
       "[<matplotlib.lines.Line2D at 0x1ce93e53a10>]"
      ]
     },
     "execution_count": 12,
     "metadata": {},
     "output_type": "execute_result"
    },
    {
     "data": {
      "image/png": "[encoded data removed]",
      "text/plain": [
       "<Figure size 1200x600 with 1 Axes>"
      ]
     },
     "metadata": {},
     "output_type": "display_data"
    }
   ],
   "source": [
    "plt.figure(figsize = (12,6))\n",
    "plt.plot(df.Close)\n",
    "plt.plot(ma100, 'r')\n",
    "plt.plot(ma200, 'g')"
   ]
  },
  {
   "cell_type": "code",
   "execution_count": 13,
   "id": "1823a31a",
   "metadata": {
    "colab": {
     "base_uri": "https://localhost:8080/"
    },
    "id": "1823a31a",
    "outputId": "c4cb4dcc-e635-4e26-a2e4-08cb4cd4714e"
   },
   "outputs": [
    {
     "data": {
      "text/plain": [
       "(230, 6)"
      ]
     },
     "execution_count": 13,
     "metadata": {},
     "output_type": "execute_result"
    }
   ],
   "source": [
    "df. shape"
   ]
  },
  {
   "cell_type": "code",
   "execution_count": 14,
   "id": "cf3071b0",
   "metadata": {
    "colab": {
     "base_uri": "https://localhost:8080/"
    },
    "id": "cf3071b0",
    "outputId": "23880f93-8ce9-41c5-deea-348c199da543"
   },
   "outputs": [
    {
     "name": "stdout",
     "output_type": "stream",
     "text": [
      "(161, 1)\n",
      "(69, 1)\n"
     ]
    }
   ],
   "source": [
    "#splitting  Data into Training and Testing\n",
    "data_training = pd.DataFrame(df['Close'][0:int(len(df)*0.70)])\n",
    "data_testing=pd.DataFrame(df['Close'][int(len(df)*0.70): int(len(df))])\n",
    "\n",
    "print(data_training.shape)\n",
    "print(data_testing.shape)"
   ]
  },
  {
   "cell_type": "code",
   "execution_count": 15,
   "id": "b8322c76",
   "metadata": {
    "colab": {
     "base_uri": "https://localhost:8080/",
     "height": 206
    },
    "id": "b8322c76",
    "outputId": "4d0df2b5-36d9-4b1c-b5ad-e4082609c454"
   },
   "outputs": [
    {
     "data": {
      "text/html": [
       "<div>\n",
       "<style scoped>\n",
       "    .dataframe tbody tr th:only-of-type {\n",
       "        vertical-align: middle;\n",
       "    }\n",
       "\n",
       "    .dataframe tbody tr th {\n",
       "        vertical-align: top;\n",
       "    }\n",
       "\n",
       "    .dataframe thead th {\n",
       "        text-align: right;\n",
       "    }\n",
       "</style>\n",
       "<table border=\"1\" class=\"dataframe\">\n",
       "  <thead>\n",
       "    <tr style=\"text-align: right;\">\n",
       "      <th></th>\n",
       "      <th>Close</th>\n",
       "    </tr>\n",
       "  </thead>\n",
       "  <tbody>\n",
       "    <tr>\n",
       "      <th>0</th>\n",
       "      <td>152.059998</td>\n",
       "    </tr>\n",
       "    <tr>\n",
       "      <th>1</th>\n",
       "      <td>154.509995</td>\n",
       "    </tr>\n",
       "    <tr>\n",
       "      <th>2</th>\n",
       "      <td>146.500000</td>\n",
       "    </tr>\n",
       "    <tr>\n",
       "      <th>3</th>\n",
       "      <td>142.559998</td>\n",
       "    </tr>\n",
       "    <tr>\n",
       "      <th>4</th>\n",
       "      <td>147.110001</td>\n",
       "    </tr>\n",
       "  </tbody>\n",
       "</table>\n",
       "</div>"
      ],
      "text/plain": [
       "        Close\n",
       "0  152.059998\n",
       "1  154.509995\n",
       "2  146.500000\n",
       "3  142.559998\n",
       "4  147.110001"
      ]
     },
     "execution_count": 15,
     "metadata": {},
     "output_type": "execute_result"
    }
   ],
   "source": [
    "data_training.head()"
   ]
  },
  {
   "cell_type": "code",
   "execution_count": 16,
   "id": "8c096527",
   "metadata": {
    "id": "8c096527"
   },
   "outputs": [],
   "source": [
    "from sklearn.preprocessing import MinMaxScaler\n",
    "scaler = MinMaxScaler(feature_range=(0,1))"
   ]
  },
  {
   "cell_type": "code",
   "execution_count": 17,
   "id": "ypgGCncuFODW",
   "metadata": {
    "colab": {
     "base_uri": "https://localhost:8080/"
    },
    "id": "ypgGCncuFODW",
    "outputId": "3c02876a-f65c-4698-ef20-36d44c4e2f55"
   },
   "outputs": [
    {
     "data": {
      "text/plain": [
       "array([[4.94833708e-01],\n",
       "       [5.49865080e-01],\n",
       "       [3.69946084e-01],\n",
       "       [2.81446486e-01],\n",
       "       [3.83647803e-01],\n",
       "       [3.48382593e-01],\n",
       "       [4.31491574e-01],\n",
       "       [2.42363152e-01],\n",
       "       [1.64420634e-01],\n",
       "       [1.69811250e-01],\n",
       "       [2.93800552e-01],\n",
       "       [2.32030567e-01],\n",
       "       [2.35624539e-01],\n",
       "       [3.08849925e-01],\n",
       "       [4.40476162e-01],\n",
       "       [4.22506643e-01],\n",
       "       [4.19586841e-01],\n",
       "       [4.75741372e-01],\n",
       "       [3.44788963e-01],\n",
       "       [3.61859817e-01],\n",
       "       [4.19586841e-01],\n",
       "       [4.02740481e-01],\n",
       "       [2.83243473e-01],\n",
       "       [1.59479008e-01],\n",
       "       [4.15544907e-02],\n",
       "       [6.13206529e-02],\n",
       "       [1.21293652e-01],\n",
       "       [6.73826964e-04],\n",
       "       [3.43665461e-02],\n",
       "       [1.31176904e-01],\n",
       "       [1.19497008e-01],\n",
       "       [1.85085461e-01],\n",
       "       [2.61230992e-01],\n",
       "       [2.61230992e-01],\n",
       "       [1.66442115e-01],\n",
       "       [2.06648609e-01],\n",
       "       [1.50269582e-01],\n",
       "       [1.99909996e-01],\n",
       "       [2.58984674e-01],\n",
       "       [2.89532753e-01],\n",
       "       [3.66576949e-01],\n",
       "       [3.82075312e-01],\n",
       "       [3.33333219e-01],\n",
       "       [3.55570537e-01],\n",
       "       [3.47259776e-01],\n",
       "       [4.14195882e-01],\n",
       "       [4.52380895e-01],\n",
       "       [3.82749481e-01],\n",
       "       [4.71024241e-01],\n",
       "       [5.16846188e-01],\n",
       "       [5.68733264e-01],\n",
       "       [5.40431160e-01],\n",
       "       [5.14824707e-01],\n",
       "       [4.84501466e-01],\n",
       "       [6.01077986e-01],\n",
       "       [6.13656889e-01],\n",
       "       [7.29559582e-01],\n",
       "       [7.07097770e-01],\n",
       "       [6.73405051e-01],\n",
       "       [8.10871578e-01],\n",
       "       [8.03683633e-01],\n",
       "       [7.93351391e-01],\n",
       "       [7.82569474e-01],\n",
       "       [7.83692633e-01],\n",
       "       [8.80727829e-01],\n",
       "       [8.63881470e-01],\n",
       "       [9.44968627e-01],\n",
       "       [9.69451921e-01],\n",
       "       [9.65857949e-01],\n",
       "       [1.00000000e+00],\n",
       "       [9.91015069e-01],\n",
       "       [9.31940735e-01],\n",
       "       [8.43216643e-01],\n",
       "       [8.35579366e-01],\n",
       "       [8.42317978e-01],\n",
       "       [8.98472510e-01],\n",
       "       [7.54492208e-01],\n",
       "       [7.04177967e-01],\n",
       "       [6.48697262e-01],\n",
       "       [6.10736744e-01],\n",
       "       [6.27358609e-01],\n",
       "       [5.79065506e-01],\n",
       "       [5.50314413e-01],\n",
       "       [5.82434983e-01],\n",
       "       [5.48742264e-01],\n",
       "       [6.14105879e-01],\n",
       "       [7.50224409e-01],\n",
       "       [5.34815707e-01],\n",
       "       [5.67834599e-01],\n",
       "       [5.01796815e-01],\n",
       "       [4.64285629e-01],\n",
       "       [5.49191253e-01],\n",
       "       [6.03548799e-01],\n",
       "       [5.32120399e-01],\n",
       "       [5.10107919e-01],\n",
       "       [4.58220843e-01],\n",
       "       [4.65858120e-01],\n",
       "       [4.88095095e-01],\n",
       "       [4.44968456e-01],\n",
       "       [2.79649500e-01],\n",
       "       [1.83512969e-01],\n",
       "       [2.78975673e-01],\n",
       "       [3.60961496e-01],\n",
       "       [3.67699765e-01],\n",
       "       [3.45911779e-01],\n",
       "       [2.25965782e-01],\n",
       "       [2.33378221e-01],\n",
       "       [2.01033156e-01],\n",
       "       [1.86657609e-01],\n",
       "       [2.91105244e-01],\n",
       "       [1.87556274e-01],\n",
       "       [2.78077352e-01],\n",
       "       [3.08176098e-01],\n",
       "       [3.10646912e-01],\n",
       "       [3.00089832e-01],\n",
       "       [3.87241775e-01],\n",
       "       [4.36208363e-01],\n",
       "       [5.01122988e-01],\n",
       "       [4.33962387e-01],\n",
       "       [3.31761070e-01],\n",
       "       [5.77493357e-01],\n",
       "       [5.23584801e-01],\n",
       "       [4.63162469e-01],\n",
       "       [3.36927191e-01],\n",
       "       [1.98787180e-01],\n",
       "       [1.87556274e-01],\n",
       "       [1.99685502e-01],\n",
       "       [2.12713394e-01],\n",
       "       [1.08715091e-01],\n",
       "       [3.78256845e-01],\n",
       "       [4.41823816e-01],\n",
       "       [4.09928083e-01],\n",
       "       [4.49460750e-01],\n",
       "       [4.21383484e-01],\n",
       "       [4.64734961e-01],\n",
       "       [4.77538016e-01],\n",
       "       [4.03863297e-01],\n",
       "       [4.52605390e-01],\n",
       "       [4.72596732e-01],\n",
       "       [4.06109616e-01],\n",
       "       [3.18733178e-01],\n",
       "       [2.50224580e-01],\n",
       "       [4.04312630e-01],\n",
       "       [4.10601910e-01],\n",
       "       [3.99371003e-01],\n",
       "       [3.72866229e-01],\n",
       "       [2.89308258e-01],\n",
       "       [2.45058459e-01],\n",
       "       [2.83467967e-01],\n",
       "       [2.72461898e-01],\n",
       "       [3.24797963e-01],\n",
       "       [3.46810444e-01],\n",
       "       [2.96046870e-01],\n",
       "       [1.45327956e-01],\n",
       "       [1.00628825e-01],\n",
       "       [5.25605596e-02],\n",
       "       [5.09884109e-02],\n",
       "       [1.21742984e-01],\n",
       "       [4.94159195e-02],\n",
       "       [4.11051585e-02],\n",
       "       [0.00000000e+00]])"
      ]
     },
     "execution_count": 17,
     "metadata": {},
     "output_type": "execute_result"
    }
   ],
   "source": [
    "data_training_array = scaler.fit_transform(data_training)\n",
    "data_training_array"
   ]
  },
  {
   "cell_type": "code",
   "execution_count": 18,
   "id": "7M29zz1ZGO0z",
   "metadata": {
    "colab": {
     "base_uri": "https://localhost:8080/"
    },
    "id": "7M29zz1ZGO0z",
    "outputId": "474a7d92-6deb-423b-d2b3-06ed27c29c8d"
   },
   "outputs": [
    {
     "data": {
      "text/plain": [
       "(161, 1)"
      ]
     },
     "execution_count": 18,
     "metadata": {},
     "output_type": "execute_result"
    }
   ],
   "source": [
    "data_training_array.shape"
   ]
  },
  {
   "cell_type": "code",
   "execution_count": 19,
   "id": "iARLIjnAIEyr",
   "metadata": {
    "id": "iARLIjnAIEyr"
   },
   "outputs": [],
   "source": [
    "x_train = []\n",
    "y_train = []\n",
    "\n",
    "for i in range(100, data_training_array.shape[0]):\n",
    "  x_train.append(data_training_array[i-100: i])\n",
    "  y_train.append(data_training_array[i, 0])\n",
    "\n",
    "x_train, y_train = np.array(x_train), np.array(y_train)"
   ]
  },
  {
   "cell_type": "code",
   "execution_count": 20,
   "id": "ntM1qUM9JHFN",
   "metadata": {
    "colab": {
     "base_uri": "https://localhost:8080/"
    },
    "id": "ntM1qUM9JHFN",
    "outputId": "87c1d19d-0c72-45c6-b6ec-f061752ea9aa"
   },
   "outputs": [
    {
     "data": {
      "text/plain": [
       "(61, 100, 1)"
      ]
     },
     "execution_count": 20,
     "metadata": {},
     "output_type": "execute_result"
    }
   ],
   "source": [
    "x_train.shape"
   ]
  },
  {
   "cell_type": "code",
   "execution_count": 21,
   "id": "xiUOfjF_J_m2",
   "metadata": {
    "id": "xiUOfjF_J_m2"
   },
   "outputs": [],
   "source": [
    "#ML Model"
   ]
  },
  {
   "cell_type": "code",
   "execution_count": 22,
   "id": "df57829b",
   "metadata": {
    "id": "df57829b"
   },
   "outputs": [],
   "source": [
    "from keras.models import Sequential\n",
    "from keras.layers import Dense, Dropout, LSTM, Bidirectional"
   ]
  },
  {
   "cell_type": "code",
   "execution_count": 23,
   "id": "lHp9MnqkKIHh",
   "metadata": {
    "id": "lHp9MnqkKIHh"
   },
   "outputs": [],
   "source": [
    "model = tf.keras.Sequential()\n",
    "model.add(LSTM(units=50, activation = 'relu' ,return_sequences = True,\n",
    "               input_shape = (x_train.shape[1], 1)))\n",
    "model.add(Dropout(0.1))\n",
    "\n",
    "model = Sequential()\n",
    "model.add(LSTM(units=60, activation = 'relu' ,return_sequences = True))\n",
    "model.add(Dropout(0.2))\n",
    "\n",
    "model = Sequential()\n",
    "model.add(LSTM(units=80, activation = 'relu' ,return_sequences = True))\n",
    "model.add(Dropout(0.3))\n",
    "\n",
    "model = Sequential()\n",
    "model.add(LSTM(units=120, activation = 'relu'))\n",
    "model.add(Dropout(0.5))\n",
    "\n",
    "model.add(Dense(2))\n",
    "model.compile(loss='mean_squared_error', optimizer='adam', metrics=['mean_absolute_error'])\n"
   ]
  },
  {
   "cell_type": "code",
   "execution_count": 24,
   "id": "qtpmYIud9zBu",
   "metadata": {
    "id": "qtpmYIud9zBu"
   },
   "outputs": [],
   "source": [
    "input_shape = (None,x_train.shape[1], 1)\n",
    "model.build(input_shape)"
   ]
  },
  {
   "cell_type": "code",
   "execution_count": 25,
   "id": "ODAQRlaMAoJp",
   "metadata": {
    "colab": {
     "base_uri": "https://localhost:8080/"
    },
    "id": "ODAQRlaMAoJp",
    "outputId": "e450d399-129f-4581-ff6f-c640afceba96"
   },
   "outputs": [
    {
     "name": "stdout",
     "output_type": "stream",
     "text": [
      "Model: \"sequential_3\"\n",
      "_________________________________________________________________\n",
      " Layer (type)                Output Shape              Param #   \n",
      "=================================================================\n",
      " lstm_3 (LSTM)               (None, 120)               58560     \n",
      "                                                                 \n",
      " dropout_3 (Dropout)         (None, 120)               0         \n",
      "                                                                 \n",
      " dense (Dense)               (None, 2)                 242       \n",
      "                                                                 \n",
      "=================================================================\n",
      "Total params: 58802 (229.70 KB)\n",
      "Trainable params: 58802 (229.70 KB)\n",
      "Non-trainable params: 0 (0.00 Byte)\n",
      "_________________________________________________________________\n"
     ]
    }
   ],
   "source": [
    "model.summary()"
   ]
  },
  {
   "cell_type": "code",
   "execution_count": 26,
   "id": "pju5pfrTTzsu",
   "metadata": {
    "colab": {
     "base_uri": "https://localhost:8080/"
    },
    "id": "pju5pfrTTzsu",
    "outputId": "9837e0b2-de27-4abd-8ad0-247dd29e7f96"
   },
   "outputs": [
    {
     "name": "stdout",
     "output_type": "stream",
     "text": [
      "Epoch 1/50\n",
      "2/2 [==============================] - 4s 108ms/step - loss: 0.1171\n",
      "Epoch 2/50\n",
      "2/2 [==============================] - 0s 91ms/step - loss: 0.1048\n",
      "Epoch 3/50\n",
      "2/2 [==============================] - 0s 95ms/step - loss: 0.0887\n",
      "Epoch 4/50\n",
      "2/2 [==============================] - 0s 81ms/step - loss: 0.0801\n",
      "Epoch 5/50\n",
      "2/2 [==============================] - 0s 87ms/step - loss: 0.0725\n",
      "Epoch 6/50\n",
      "2/2 [==============================] - 0s 86ms/step - loss: 0.0599\n",
      "Epoch 7/50\n",
      "2/2 [==============================] - 0s 56ms/step - loss: 0.0526\n",
      "Epoch 8/50\n",
      "2/2 [==============================] - 0s 61ms/step - loss: 0.0396\n",
      "Epoch 9/50\n",
      "2/2 [==============================] - 0s 72ms/step - loss: 0.0288\n",
      "Epoch 10/50\n",
      "2/2 [==============================] - 0s 59ms/step - loss: 0.0286\n",
      "Epoch 11/50\n",
      "2/2 [==============================] - 0s 60ms/step - loss: 0.0280\n",
      "Epoch 12/50\n",
      "2/2 [==============================] - 0s 67ms/step - loss: 0.0263\n",
      "Epoch 13/50\n",
      "2/2 [==============================] - 0s 59ms/step - loss: 0.0252\n",
      "Epoch 14/50\n",
      "2/2 [==============================] - 0s 60ms/step - loss: 0.0235\n",
      "Epoch 15/50\n",
      "2/2 [==============================] - 0s 58ms/step - loss: 0.0225\n",
      "Epoch 16/50\n",
      "2/2 [==============================] - 0s 58ms/step - loss: 0.0245\n",
      "Epoch 17/50\n",
      "2/2 [==============================] - 0s 69ms/step - loss: 0.0265\n",
      "Epoch 18/50\n",
      "2/2 [==============================] - 0s 60ms/step - loss: 0.0219\n",
      "Epoch 19/50\n",
      "2/2 [==============================] - 0s 56ms/step - loss: 0.0189\n",
      "Epoch 20/50\n",
      "2/2 [==============================] - 0s 73ms/step - loss: 0.0193\n",
      "Epoch 21/50\n",
      "2/2 [==============================] - 0s 58ms/step - loss: 0.0213\n",
      "Epoch 22/50\n",
      "2/2 [==============================] - 0s 56ms/step - loss: 0.0211\n",
      "Epoch 23/50\n",
      "2/2 [==============================] - 0s 60ms/step - loss: 0.0196\n",
      "Epoch 24/50\n",
      "2/2 [==============================] - 0s 71ms/step - loss: 0.0213\n",
      "Epoch 25/50\n",
      "2/2 [==============================] - 0s 65ms/step - loss: 0.0211\n",
      "Epoch 26/50\n",
      "2/2 [==============================] - 0s 67ms/step - loss: 0.0231\n",
      "Epoch 27/50\n",
      "2/2 [==============================] - 0s 60ms/step - loss: 0.0211\n",
      "Epoch 28/50\n",
      "2/2 [==============================] - 0s 78ms/step - loss: 0.0209\n",
      "Epoch 29/50\n",
      "2/2 [==============================] - 0s 57ms/step - loss: 0.0164\n",
      "Epoch 30/50\n",
      "2/2 [==============================] - 0s 59ms/step - loss: 0.0199\n",
      "Epoch 31/50\n",
      "2/2 [==============================] - 0s 63ms/step - loss: 0.0195\n",
      "Epoch 32/50\n",
      "2/2 [==============================] - 0s 80ms/step - loss: 0.0228\n",
      "Epoch 33/50\n",
      "2/2 [==============================] - 0s 63ms/step - loss: 0.0186\n",
      "Epoch 34/50\n",
      "2/2 [==============================] - 0s 84ms/step - loss: 0.0230\n",
      "Epoch 35/50\n",
      "2/2 [==============================] - 0s 79ms/step - loss: 0.0223\n",
      "Epoch 36/50\n",
      "2/2 [==============================] - 0s 78ms/step - loss: 0.0216\n",
      "Epoch 37/50\n",
      "2/2 [==============================] - 0s 77ms/step - loss: 0.0191\n",
      "Epoch 38/50\n",
      "2/2 [==============================] - 0s 67ms/step - loss: 0.0213\n",
      "Epoch 39/50\n",
      "2/2 [==============================] - 0s 69ms/step - loss: 0.0208\n",
      "Epoch 40/50\n",
      "2/2 [==============================] - 0s 52ms/step - loss: 0.0189\n",
      "Epoch 41/50\n",
      "2/2 [==============================] - 0s 61ms/step - loss: 0.0192\n",
      "Epoch 42/50\n",
      "2/2 [==============================] - 0s 63ms/step - loss: 0.0194\n",
      "Epoch 43/50\n",
      "2/2 [==============================] - 0s 65ms/step - loss: 0.0167\n",
      "Epoch 44/50\n",
      "2/2 [==============================] - 0s 80ms/step - loss: 0.0222\n",
      "Epoch 45/50\n",
      "2/2 [==============================] - 0s 63ms/step - loss: 0.0210\n",
      "Epoch 46/50\n",
      "2/2 [==============================] - 0s 59ms/step - loss: 0.0194\n",
      "Epoch 47/50\n",
      "2/2 [==============================] - 0s 62ms/step - loss: 0.0177\n",
      "Epoch 48/50\n",
      "2/2 [==============================] - 0s 62ms/step - loss: 0.0178\n",
      "Epoch 49/50\n",
      "2/2 [==============================] - 0s 72ms/step - loss: 0.0177\n",
      "Epoch 50/50\n",
      "2/2 [==============================] - 0s 61ms/step - loss: 0.0191\n"
     ]
    },
    {
     "data": {
      "text/plain": [
       "<keras.src.callbacks.History at 0x1ce9786b710>"
      ]
     },
     "execution_count": 26,
     "metadata": {},
     "output_type": "execute_result"
    }
   ],
   "source": [
    "model.compile(optimizer='adam', loss = 'mean_squared_error')\n",
    "model.fit(x_train, y_train, epochs = 50)"
   ]
  },
  {
   "cell_type": "code",
   "execution_count": 27,
   "id": "bKQbpyeiUhHP",
   "metadata": {
    "id": "bKQbpyeiUhHP"
   },
   "outputs": [
    {
     "name": "stderr",
     "output_type": "stream",
     "text": [
      "c:\\Users\\rishm\\anaconda3\\Lib\\site-packages\\keras\\src\\engine\\training.py:3000: UserWarning: You are saving your model as an HDF5 file via `model.save()`. This file format is considered legacy. We recommend using instead the native Keras format, e.g. `model.save('my_model.keras')`.\n",
      "  saving_api.save_model(\n"
     ]
    }
   ],
   "source": [
    "model.save('keras model.h5')"
   ]
  },
  {
   "cell_type": "code",
   "execution_count": 28,
   "id": "0pWmP8lrU5CW",
   "metadata": {
    "colab": {
     "base_uri": "https://localhost:8080/",
     "height": 206
    },
    "id": "0pWmP8lrU5CW",
    "outputId": "8fcd5f2b-32f8-44cc-fb7c-4bc659be9d78"
   },
   "outputs": [
    {
     "data": {
      "text/html": [
       "<div>\n",
       "<style scoped>\n",
       "    .dataframe tbody tr th:only-of-type {\n",
       "        vertical-align: middle;\n",
       "    }\n",
       "\n",
       "    .dataframe tbody tr th {\n",
       "        vertical-align: top;\n",
       "    }\n",
       "\n",
       "    .dataframe thead th {\n",
       "        text-align: right;\n",
       "    }\n",
       "</style>\n",
       "<table border=\"1\" class=\"dataframe\">\n",
       "  <thead>\n",
       "    <tr style=\"text-align: right;\">\n",
       "      <th></th>\n",
       "      <th>Close</th>\n",
       "    </tr>\n",
       "  </thead>\n",
       "  <tbody>\n",
       "    <tr>\n",
       "      <th>161</th>\n",
       "      <td>126.040001</td>\n",
       "    </tr>\n",
       "    <tr>\n",
       "      <th>162</th>\n",
       "      <td>129.610001</td>\n",
       "    </tr>\n",
       "    <tr>\n",
       "      <th>163</th>\n",
       "      <td>129.929993</td>\n",
       "    </tr>\n",
       "    <tr>\n",
       "      <th>164</th>\n",
       "      <td>125.070000</td>\n",
       "    </tr>\n",
       "    <tr>\n",
       "      <th>165</th>\n",
       "      <td>126.360001</td>\n",
       "    </tr>\n",
       "  </tbody>\n",
       "</table>\n",
       "</div>"
      ],
      "text/plain": [
       "          Close\n",
       "161  126.040001\n",
       "162  129.610001\n",
       "163  129.929993\n",
       "164  125.070000\n",
       "165  126.360001"
      ]
     },
     "execution_count": 28,
     "metadata": {},
     "output_type": "execute_result"
    }
   ],
   "source": [
    "data_testing.head()"
   ]
  },
  {
   "cell_type": "code",
   "execution_count": 29,
   "id": "bxfbPzuAVBRf",
   "metadata": {
    "colab": {
     "base_uri": "https://localhost:8080/",
     "height": 423
    },
    "id": "bxfbPzuAVBRf",
    "outputId": "d3630f42-f0e8-45e4-e5f7-75f8d3519f40"
   },
   "outputs": [
    {
     "data": {
      "text/html": [
       "<div>\n",
       "<style scoped>\n",
       "    .dataframe tbody tr th:only-of-type {\n",
       "        vertical-align: middle;\n",
       "    }\n",
       "\n",
       "    .dataframe tbody tr th {\n",
       "        vertical-align: top;\n",
       "    }\n",
       "\n",
       "    .dataframe thead th {\n",
       "        text-align: right;\n",
       "    }\n",
       "</style>\n",
       "<table border=\"1\" class=\"dataframe\">\n",
       "  <thead>\n",
       "    <tr style=\"text-align: right;\">\n",
       "      <th></th>\n",
       "      <th>Close</th>\n",
       "    </tr>\n",
       "  </thead>\n",
       "  <tbody>\n",
       "    <tr>\n",
       "      <th>61</th>\n",
       "      <td>165.350006</td>\n",
       "    </tr>\n",
       "    <tr>\n",
       "      <th>62</th>\n",
       "      <td>164.869995</td>\n",
       "    </tr>\n",
       "    <tr>\n",
       "      <th>63</th>\n",
       "      <td>164.919998</td>\n",
       "    </tr>\n",
       "    <tr>\n",
       "      <th>64</th>\n",
       "      <td>169.240005</td>\n",
       "    </tr>\n",
       "    <tr>\n",
       "      <th>65</th>\n",
       "      <td>168.490005</td>\n",
       "    </tr>\n",
       "    <tr>\n",
       "      <th>...</th>\n",
       "      <td>...</td>\n",
       "    </tr>\n",
       "    <tr>\n",
       "      <th>156</th>\n",
       "      <td>132.300003</td>\n",
       "    </tr>\n",
       "    <tr>\n",
       "      <th>157</th>\n",
       "      <td>135.449997</td>\n",
       "    </tr>\n",
       "    <tr>\n",
       "      <th>158</th>\n",
       "      <td>132.229996</td>\n",
       "    </tr>\n",
       "    <tr>\n",
       "      <th>159</th>\n",
       "      <td>131.860001</td>\n",
       "    </tr>\n",
       "    <tr>\n",
       "      <th>160</th>\n",
       "      <td>130.029999</td>\n",
       "    </tr>\n",
       "  </tbody>\n",
       "</table>\n",
       "<p>100 rows × 1 columns</p>\n",
       "</div>"
      ],
      "text/plain": [
       "          Close\n",
       "61   165.350006\n",
       "62   164.869995\n",
       "63   164.919998\n",
       "64   169.240005\n",
       "65   168.490005\n",
       "..          ...\n",
       "156  132.300003\n",
       "157  135.449997\n",
       "158  132.229996\n",
       "159  131.860001\n",
       "160  130.029999\n",
       "\n",
       "[100 rows x 1 columns]"
      ]
     },
     "execution_count": 29,
     "metadata": {},
     "output_type": "execute_result"
    }
   ],
   "source": [
    "data_training.tail(100)"
   ]
  },
  {
   "cell_type": "code",
   "execution_count": 30,
   "id": "S-jnX6pmVJJK",
   "metadata": {
    "id": "S-jnX6pmVJJK"
   },
   "outputs": [],
   "source": [
    "past_100_days = data_training.tail(100)"
   ]
  },
  {
   "cell_type": "code",
   "execution_count": 31,
   "id": "RhIsbKRnVcOs",
   "metadata": {
    "colab": {
     "base_uri": "https://localhost:8080/"
    },
    "id": "RhIsbKRnVcOs",
    "outputId": "168fc770-4153-40df-da8c-cf496085736c"
   },
   "outputs": [],
   "source": [
    "final_df = pd.concat([past_100_days,data_testing],ignore_index=True)"
   ]
  },
  {
   "cell_type": "code",
   "execution_count": 32,
   "id": "3v7zgpXcVy--",
   "metadata": {
    "colab": {
     "base_uri": "https://localhost:8080/",
     "height": 206
    },
    "id": "3v7zgpXcVy--",
    "outputId": "43d82a82-178b-494a-a651-0b455aa51cac"
   },
   "outputs": [
    {
     "data": {
      "text/html": [
       "<div>\n",
       "<style scoped>\n",
       "    .dataframe tbody tr th:only-of-type {\n",
       "        vertical-align: middle;\n",
       "    }\n",
       "\n",
       "    .dataframe tbody tr th {\n",
       "        vertical-align: top;\n",
       "    }\n",
       "\n",
       "    .dataframe thead th {\n",
       "        text-align: right;\n",
       "    }\n",
       "</style>\n",
       "<table border=\"1\" class=\"dataframe\">\n",
       "  <thead>\n",
       "    <tr style=\"text-align: right;\">\n",
       "      <th></th>\n",
       "      <th>Close</th>\n",
       "    </tr>\n",
       "  </thead>\n",
       "  <tbody>\n",
       "    <tr>\n",
       "      <th>0</th>\n",
       "      <td>165.350006</td>\n",
       "    </tr>\n",
       "    <tr>\n",
       "      <th>1</th>\n",
       "      <td>164.869995</td>\n",
       "    </tr>\n",
       "    <tr>\n",
       "      <th>2</th>\n",
       "      <td>164.919998</td>\n",
       "    </tr>\n",
       "    <tr>\n",
       "      <th>3</th>\n",
       "      <td>169.240005</td>\n",
       "    </tr>\n",
       "    <tr>\n",
       "      <th>4</th>\n",
       "      <td>168.490005</td>\n",
       "    </tr>\n",
       "  </tbody>\n",
       "</table>\n",
       "</div>"
      ],
      "text/plain": [
       "        Close\n",
       "0  165.350006\n",
       "1  164.869995\n",
       "2  164.919998\n",
       "3  169.240005\n",
       "4  168.490005"
      ]
     },
     "execution_count": 32,
     "metadata": {},
     "output_type": "execute_result"
    }
   ],
   "source": [
    "final_df.head()"
   ]
  },
  {
   "cell_type": "code",
   "execution_count": 33,
   "id": "IGm4TV6RV7nq",
   "metadata": {
    "colab": {
     "base_uri": "https://localhost:8080/"
    },
    "id": "IGm4TV6RV7nq",
    "outputId": "46392d59-facb-460a-b688-c581483eb4a6"
   },
   "outputs": [
    {
     "data": {
      "text/plain": [
       "array([[0.81425407],\n",
       "       [0.80456276],\n",
       "       [0.80557231],\n",
       "       [0.89279231],\n",
       "       [0.87764997],\n",
       "       [0.9505351 ],\n",
       "       [0.97254189],\n",
       "       [0.96931145],\n",
       "       [1.        ],\n",
       "       [0.9919239 ],\n",
       "       [0.93882499],\n",
       "       [0.85907541],\n",
       "       [0.85221065],\n",
       "       [0.85826765],\n",
       "       [0.9087421 ],\n",
       "       [0.77932553],\n",
       "       [0.73410062],\n",
       "       [0.68423183],\n",
       "       [0.65011105],\n",
       "       [0.6650516 ],\n",
       "       [0.62164339],\n",
       "       [0.59580049],\n",
       "       [0.62467204],\n",
       "       [0.59438737],\n",
       "       [0.6531394 ],\n",
       "       [0.77548942],\n",
       "       [0.58186949],\n",
       "       [0.6115485 ],\n",
       "       [0.55219049],\n",
       "       [0.51847359],\n",
       "       [0.59479094],\n",
       "       [0.64365017],\n",
       "       [0.57944682],\n",
       "       [0.55966092],\n",
       "       [0.51302226],\n",
       "       [0.51988702],\n",
       "       [0.53987471],\n",
       "       [0.50111037],\n",
       "       [0.35251356],\n",
       "       [0.26610132],\n",
       "       [0.3519079 ],\n",
       "       [0.42560078],\n",
       "       [0.43165747],\n",
       "       [0.41207336],\n",
       "       [0.30426   ],\n",
       "       [0.31092266],\n",
       "       [0.28184933],\n",
       "       [0.26892788],\n",
       "       [0.36281055],\n",
       "       [0.26973565],\n",
       "       [0.35110044],\n",
       "       [0.37815467],\n",
       "       [0.38037556],\n",
       "       [0.37088634],\n",
       "       [0.44922279],\n",
       "       [0.49323636],\n",
       "       [0.55158482],\n",
       "       [0.49121757],\n",
       "       [0.399354  ],\n",
       "       [0.62023026],\n",
       "       [0.5717746 ],\n",
       "       [0.51746404],\n",
       "       [0.40399757],\n",
       "       [0.27983054],\n",
       "       [0.26973565],\n",
       "       [0.28063799],\n",
       "       [0.2923481 ],\n",
       "       [0.19886932],\n",
       "       [0.44114669],\n",
       "       [0.49828381],\n",
       "       [0.46961436],\n",
       "       [0.50514826],\n",
       "       [0.47991104],\n",
       "       [0.51887747],\n",
       "       [0.53038549],\n",
       "       [0.46416303],\n",
       "       [0.50797482],\n",
       "       [0.52594402],\n",
       "       [0.46618213],\n",
       "       [0.38764389],\n",
       "       [0.326065  ],\n",
       "       [0.46456691],\n",
       "       [0.47022003],\n",
       "       [0.46012514],\n",
       "       [0.43630134],\n",
       "       [0.36119533],\n",
       "       [0.32142144],\n",
       "       [0.35594579],\n",
       "       [0.34605299],\n",
       "       [0.39309522],\n",
       "       [0.41288112],\n",
       "       [0.36725233],\n",
       "       [0.23177876],\n",
       "       [0.19160098],\n",
       "       [0.14839486],\n",
       "       [0.14698174],\n",
       "       [0.21057943],\n",
       "       [0.14556831],\n",
       "       [0.13809818],\n",
       "       [0.10115085],\n",
       "       [0.02059366],\n",
       "       [0.09267118],\n",
       "       [0.09913175],\n",
       "       [0.00100955],\n",
       "       [0.02705439],\n",
       "       [0.        ],\n",
       "       [0.09287296],\n",
       "       [0.10357352],\n",
       "       [0.11528363],\n",
       "       [0.17100763],\n",
       "       [0.16939241],\n",
       "       [0.19664843],\n",
       "       [0.22047253],\n",
       "       [0.20573408],\n",
       "       [0.20694541],\n",
       "       [0.25943866],\n",
       "       [0.32485366],\n",
       "       [0.35352311],\n",
       "       [0.339996  ],\n",
       "       [0.38239466],\n",
       "       [0.42216825],\n",
       "       [0.36301234],\n",
       "       [0.38905702],\n",
       "       [0.41207336],\n",
       "       [0.52089657],\n",
       "       [0.59519482],\n",
       "       [0.53926904],\n",
       "       [0.59822317],\n",
       "       [0.54310515],\n",
       "       [0.52190582],\n",
       "       [0.52473237],\n",
       "       [0.58207159],\n",
       "       [0.56894804],\n",
       "       [0.61195238],\n",
       "       [0.57924503],\n",
       "       [0.55582481],\n",
       "       [0.47365225],\n",
       "       [0.48233402],\n",
       "       [0.49222681],\n",
       "       [0.43791656],\n",
       "       [0.46234602],\n",
       "       [0.45204935],\n",
       "       [0.40965068],\n",
       "       [0.42176467],\n",
       "       [0.52513626],\n",
       "       [0.58166771],\n",
       "       [0.53664458],\n",
       "       [0.56228538],\n",
       "       [0.5162527 ],\n",
       "       [0.47405613],\n",
       "       [0.51383003],\n",
       "       [0.55663227],\n",
       "       [0.56470836],\n",
       "       [0.62245115],\n",
       "       [0.60528971],\n",
       "       [0.65374506],\n",
       "       [0.69170195],\n",
       "       [0.66242683],\n",
       "       [0.68463541],\n",
       "       [0.71128606],\n",
       "       [0.67151217],\n",
       "       [0.65879251],\n",
       "       [0.72178484],\n",
       "       [0.75388652],\n",
       "       [0.80516843],\n",
       "       [0.83080953],\n",
       "       [0.81990719],\n",
       "       [0.78215209],\n",
       "       [0.80032307]])"
      ]
     },
     "execution_count": 33,
     "metadata": {},
     "output_type": "execute_result"
    }
   ],
   "source": [
    "input_data = scaler.fit_transform(final_df)\n",
    "input_data"
   ]
  },
  {
   "cell_type": "code",
   "execution_count": 34,
   "id": "veVr_FEZYEHf",
   "metadata": {
    "colab": {
     "base_uri": "https://localhost:8080/"
    },
    "id": "veVr_FEZYEHf",
    "outputId": "10bab896-2454-4eb0-fcfd-97a206973172"
   },
   "outputs": [
    {
     "data": {
      "text/plain": [
       "(169, 1)"
      ]
     },
     "execution_count": 34,
     "metadata": {},
     "output_type": "execute_result"
    }
   ],
   "source": [
    "input_data.shape"
   ]
  },
  {
   "cell_type": "code",
   "execution_count": 35,
   "id": "sfaDTr_nYQk6",
   "metadata": {
    "id": "sfaDTr_nYQk6"
   },
   "outputs": [],
   "source": [
    "x_test = []\n",
    "y_test = []\n",
    "\n",
    "for i in range(100,input_data.shape[0]):\n",
    "  x_test.append(input_data[i-100: i])\n",
    "  y_test.append(input_data[i, 0])"
   ]
  },
  {
   "cell_type": "code",
   "execution_count": 36,
   "id": "0iKpXhv_YyzU",
   "metadata": {
    "colab": {
     "base_uri": "https://localhost:8080/"
    },
    "id": "0iKpXhv_YyzU",
    "outputId": "44824bb4-7fdc-4204-ccae-b64a44ce0302"
   },
   "outputs": [
    {
     "name": "stdout",
     "output_type": "stream",
     "text": [
      "(69, 100, 1)\n",
      "(69,)\n"
     ]
    }
   ],
   "source": [
    "x_test, y_test = np.array(x_test), np.array(y_test)\n",
    "print(x_test.shape)\n",
    "print(y_test.shape)"
   ]
  },
  {
   "cell_type": "code",
   "execution_count": 37,
   "id": "wodtyRnFZGol",
   "metadata": {
    "colab": {
     "base_uri": "https://localhost:8080/"
    },
    "id": "wodtyRnFZGol",
    "outputId": "3436a4e6-66d5-4830-c48d-d9cd23e3620e"
   },
   "outputs": [
    {
     "name": "stdout",
     "output_type": "stream",
     "text": [
      "3/3 [==============================] - 1s 22ms/step\n"
     ]
    }
   ],
   "source": [
    "#Making Predictions\n",
    "\n",
    "y_predicted = model.predict(x_test)"
   ]
  },
  {
   "cell_type": "code",
   "execution_count": 38,
   "id": "ed3j_um1ZWwc",
   "metadata": {
    "colab": {
     "base_uri": "https://localhost:8080/"
    },
    "id": "ed3j_um1ZWwc",
    "outputId": "bbdab5de-d976-4e21-e0ca-c85d69ac9154"
   },
   "outputs": [
    {
     "data": {
      "text/plain": [
       "(69, 2)"
      ]
     },
     "execution_count": 38,
     "metadata": {},
     "output_type": "execute_result"
    }
   ],
   "source": [
    "y_predicted.shape"
   ]
  },
  {
   "cell_type": "code",
   "execution_count": 39,
   "id": "idEx9eniZbXb",
   "metadata": {
    "colab": {
     "base_uri": "https://localhost:8080/"
    },
    "id": "idEx9eniZbXb",
    "outputId": "42bf5e7e-5ea0-4f97-a91f-ace1adf9653e"
   },
   "outputs": [
    {
     "data": {
      "text/plain": [
       "array([0.02059366, 0.09267118, 0.09913175, 0.00100955, 0.02705439,\n",
       "       0.        , 0.09287296, 0.10357352, 0.11528363, 0.17100763,\n",
       "       0.16939241, 0.19664843, 0.22047253, 0.20573408, 0.20694541,\n",
       "       0.25943866, 0.32485366, 0.35352311, 0.339996  , 0.38239466,\n",
       "       0.42216825, 0.36301234, 0.38905702, 0.41207336, 0.52089657,\n",
       "       0.59519482, 0.53926904, 0.59822317, 0.54310515, 0.52190582,\n",
       "       0.52473237, 0.58207159, 0.56894804, 0.61195238, 0.57924503,\n",
       "       0.55582481, 0.47365225, 0.48233402, 0.49222681, 0.43791656,\n",
       "       0.46234602, 0.45204935, 0.40965068, 0.42176467, 0.52513626,\n",
       "       0.58166771, 0.53664458, 0.56228538, 0.5162527 , 0.47405613,\n",
       "       0.51383003, 0.55663227, 0.56470836, 0.62245115, 0.60528971,\n",
       "       0.65374506, 0.69170195, 0.66242683, 0.68463541, 0.71128606,\n",
       "       0.67151217, 0.65879251, 0.72178484, 0.75388652, 0.80516843,\n",
       "       0.83080953, 0.81990719, 0.78215209, 0.80032307])"
      ]
     },
     "execution_count": 39,
     "metadata": {},
     "output_type": "execute_result"
    }
   ],
   "source": [
    "y_test"
   ]
  },
  {
   "cell_type": "code",
   "execution_count": 40,
   "id": "-vnfetmVZf4z",
   "metadata": {
    "colab": {
     "base_uri": "https://localhost:8080/"
    },
    "id": "-vnfetmVZf4z",
    "outputId": "fed58a1e-88ef-46ff-9d8a-f3304b89f252"
   },
   "outputs": [
    {
     "data": {
      "text/plain": [
       "array([[0.2402556 , 0.22444673],\n",
       "       [0.22811744, 0.2082654 ],\n",
       "       [0.22194502, 0.20302002],\n",
       "       [0.21725863, 0.19965187],\n",
       "       [0.20786503, 0.18709299],\n",
       "       [0.20131984, 0.17979254],\n",
       "       [0.19428709, 0.17145343],\n",
       "       [0.19365299, 0.1744686 ],\n",
       "       [0.1941287 , 0.17799662],\n",
       "       [0.1955965 , 0.1820145 ],\n",
       "       [0.20035201, 0.19097704],\n",
       "       [0.20470971, 0.19782107],\n",
       "       [0.2102598 , 0.20592768],\n",
       "       [0.2166313 , 0.21456687],\n",
       "       [0.22128513, 0.2198004 ],\n",
       "       [0.22529784, 0.22393964],\n",
       "       [0.23173794, 0.23207097],\n",
       "       [0.24092534, 0.2436531 ],\n",
       "       [0.2502973 , 0.2551437 ],\n",
       "       [0.25797835, 0.26317832],\n",
       "       [0.2665285 , 0.2730716 ],\n",
       "       [0.2757447 , 0.2841317 ],\n",
       "       [0.28132808, 0.2883169 ],\n",
       "       [0.28720465, 0.29388064],\n",
       "       [0.29325673, 0.3002503 ],\n",
       "       [0.30300397, 0.31374288],\n",
       "       [0.31493428, 0.33039945],\n",
       "       [0.32400852, 0.34004664],\n",
       "       [0.334546  , 0.35256737],\n",
       "       [0.3419995 , 0.35880768],\n",
       "       [0.34759712, 0.36241478],\n",
       "       [0.3523223 , 0.3655851 ],\n",
       "       [0.35862774, 0.37256587],\n",
       "       [0.36369446, 0.37729657],\n",
       "       [0.3698807 , 0.38449794],\n",
       "       [0.37409475, 0.3879351 ],\n",
       "       [0.37664035, 0.38896942],\n",
       "       [0.37469962, 0.3829977 ],\n",
       "       [0.3728861 , 0.37892842],\n",
       "       [0.37136903, 0.37638783],\n",
       "       [0.36691654, 0.36945033],\n",
       "       [0.36411837, 0.36612874],\n",
       "       [0.3609541 , 0.3624342 ],\n",
       "       [0.3556147 , 0.35553426],\n",
       "       [0.3515841 , 0.35112286],\n",
       "       [0.35319325, 0.35635573],\n",
       "       [0.35738274, 0.36479026],\n",
       "       [0.3595927 , 0.3681537 ],\n",
       "       [0.3628818 , 0.3729177 ],\n",
       "       [0.36386862, 0.3731866 ],\n",
       "       [0.36265275, 0.36990774],\n",
       "       [0.363268  , 0.37061268],\n",
       "       [0.3657016 , 0.37449753],\n",
       "       [0.3683489 , 0.3782645 ],\n",
       "       [0.373403  , 0.38585484],\n",
       "       [0.37746486, 0.39078373],\n",
       "       [0.38330218, 0.3986326 ],\n",
       "       [0.39034957, 0.40803576],\n",
       "       [0.39580584, 0.41365397],\n",
       "       [0.4017025 , 0.42009437],\n",
       "       [0.4081683 , 0.4274974 ],\n",
       "       [0.41243666, 0.4306258 ],\n",
       "       [0.41556528, 0.4322859 ],\n",
       "       [0.42081147, 0.4385091 ],\n",
       "       [0.42692223, 0.44608903],\n",
       "       [0.43477252, 0.45634937],\n",
       "       [0.4432661 , 0.46688497],\n",
       "       [0.45078036, 0.47487462],\n",
       "       [0.45604435, 0.47867948]], dtype=float32)"
      ]
     },
     "execution_count": 40,
     "metadata": {},
     "output_type": "execute_result"
    }
   ],
   "source": [
    "y_predicted"
   ]
  },
  {
   "cell_type": "code",
   "execution_count": 41,
   "id": "CW8V6moEZl9d",
   "metadata": {
    "colab": {
     "base_uri": "https://localhost:8080/"
    },
    "id": "CW8V6moEZl9d",
    "outputId": "39341482-94b7-46d1-8c49-d10573373f09"
   },
   "outputs": [
    {
     "data": {
      "text/plain": [
       "array([0.02018978])"
      ]
     },
     "execution_count": 41,
     "metadata": {},
     "output_type": "execute_result"
    }
   ],
   "source": [
    "scaler.scale_"
   ]
  },
  {
   "cell_type": "code",
   "execution_count": 42,
   "id": "esMv-1b5Zvaj",
   "metadata": {
    "id": "esMv-1b5Zvaj"
   },
   "outputs": [],
   "source": [
    "scale_factor = 1/0.02018978\n",
    "y_predicted = y_predicted * scale_factor\n",
    "y_test = y_test * scale_factor"
   ]
  },
  {
   "cell_type": "code",
   "execution_count": 43,
   "id": "fBl2JLiyaHpR",
   "metadata": {
    "colab": {
     "base_uri": "https://localhost:8080/",
     "height": 542
    },
    "id": "fBl2JLiyaHpR",
    "outputId": "6d3bb131-ac63-41f9-bc3e-ce7312cd7851"
   },
   "outputs": [
    {
     "data": {
      "image/png": "[encoded data removed]",
      "text/plain": [
       "<Figure size 1200x600 with 1 Axes>"
      ]
     },
     "metadata": {},
     "output_type": "display_data"
    }
   ],
   "source": [
    "plt.figure(figsize=(12,6))\n",
    "plt.plot(y_test, 'b', label = 'Original Price')\n",
    "plt.plot(y_predicted , 'r', label = 'Predicted Price')\n",
    "plt.xlabel('Time')\n",
    "plt.ylabel('Price')\n",
    "plt.legend()\n",
    "plt.show()"
   ]
  },
  {
   "cell_type": "code",
   "execution_count": null,
   "id": "NG0pHPY-a_RF",
   "metadata": {
    "id": "NG0pHPY-a_RF"
   },
   "outputs": [],
   "source": []
  },
  {
   "cell_type": "code",
   "execution_count": null,
   "id": "64f36c11",
   "metadata": {},
   "outputs": [],
   "source": []
  }
 ],
 "metadata": {
  "colab": {
   "provenance": []
  },
  "kernelspec": {
   "display_name": "Python 3 (ipykernel)",
   "language": "python",
   "name": "python3"
  },
  "language_info": {
   "codemirror_mode": {
    "name": "ipython",
    "version": 3
   },
   "file_extension": ".py",
   "mimetype": "text/x-python",
   "name": "python",
   "nbconvert_exporter": "python",
   "pygments_lexer": "ipython3",
   "version": "3.11.3"
  }
 },
 "nbformat": 4,
 "nbformat_minor": 5
}
